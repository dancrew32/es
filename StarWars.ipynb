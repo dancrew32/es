{
 "cells": [
  {
   "cell_type": "code",
   "execution_count": 13,
   "metadata": {},
   "outputs": [
    {
     "data": {
      "text/plain": [
       "{'name': 'k3DkNSo',\n",
       " 'cluster_name': 'tubular',\n",
       " 'cluster_uuid': 'ydZAhfywTsqMGGjZ5zTiGA',\n",
       " 'version': {'number': '6.6.0',\n",
       "  'build_flavor': 'default',\n",
       "  'build_type': 'tar',\n",
       "  'build_hash': 'a9861f4',\n",
       "  'build_date': '2019-01-24T11:27:09.439740Z',\n",
       "  'build_snapshot': False,\n",
       "  'lucene_version': '7.6.0',\n",
       "  'minimum_wire_compatibility_version': '5.6.0',\n",
       "  'minimum_index_compatibility_version': '5.0.0'},\n",
       " 'tagline': 'You Know, for Search'}"
      ]
     },
     "execution_count": 13,
     "metadata": {},
     "output_type": "execute_result"
    }
   ],
   "source": [
    "import requests\n",
    "requests.get('http://localhost:9200').json()"
   ]
  },
  {
   "cell_type": "code",
   "execution_count": 2,
   "metadata": {},
   "outputs": [],
   "source": [
    "from elasticsearch import Elasticsearch\n",
    "es = Elasticsearch([{'host': 'localhost', 'port': 9200}])"
   ]
  },
  {
   "cell_type": "code",
   "execution_count": 6,
   "metadata": {},
   "outputs": [
    {
     "data": {
      "text/plain": [
       "{'_index': 'test-index',\n",
       " '_type': 'test',\n",
       " '_id': '1',\n",
       " '_version': 5,\n",
       " 'result': 'deleted',\n",
       " '_shards': {'total': 2, 'successful': 1, 'failed': 0},\n",
       " '_seq_no': 4,\n",
       " '_primary_term': 1}"
      ]
     },
     "execution_count": 6,
     "metadata": {},
     "output_type": "execute_result"
    }
   ],
   "source": [
    "es.index(index='test-index', doc_type='test', id=1, body={'test': 'test'})\n",
    "es.delete(index='test-index', doc_type='test', id=1)"
   ]
  },
  {
   "cell_type": "code",
   "execution_count": 8,
   "metadata": {},
   "outputs": [],
   "source": [
    "r = requests.get('http://localhost:9200') \n",
    "i = 1\n",
    "while r.status_code == 200:\n",
    "    r = requests.get(f'http://swapi.co/api/people/{i}')\n",
    "    es.index(index='starwars', doc_type='people', id=i, body=r.json())\n",
    "    i += 1"
   ]
  },
  {
   "cell_type": "code",
   "execution_count": 65,
   "metadata": {},
   "outputs": [
    {
     "data": {
      "text/plain": [
       "'Luke Skywalker'"
      ]
     },
     "execution_count": 65,
     "metadata": {},
     "output_type": "execute_result"
    }
   ],
   "source": [
    "es.get(index='starwars', doc_type='people', id=1)['_source']['name']"
   ]
  },
  {
   "cell_type": "code",
   "execution_count": 70,
   "metadata": {},
   "outputs": [
    {
     "data": {
      "text/plain": [
       "{'took': 12,\n",
       " 'timed_out': False,\n",
       " '_shards': {'total': 5, 'successful': 5, 'skipped': 0, 'failed': 0},\n",
       " 'hits': {'total': 1,\n",
       "  'max_score': 1.2067742,\n",
       "  'hits': [{'_index': 'starwars',\n",
       "    '_type': 'people',\n",
       "    '_id': '10',\n",
       "    '_score': 1.2067742,\n",
       "    '_source': {'name': 'Obi-Wan Kenobi',\n",
       "     'height': '182',\n",
       "     'mass': '77',\n",
       "     'hair_color': 'auburn, white',\n",
       "     'skin_color': 'fair',\n",
       "     'eye_color': 'blue-gray',\n",
       "     'birth_year': '57BBY',\n",
       "     'gender': 'male',\n",
       "     'homeworld': 'https://swapi.co/api/planets/20/',\n",
       "     'films': ['https://swapi.co/api/films/2/',\n",
       "      'https://swapi.co/api/films/5/',\n",
       "      'https://swapi.co/api/films/4/',\n",
       "      'https://swapi.co/api/films/6/',\n",
       "      'https://swapi.co/api/films/3/',\n",
       "      'https://swapi.co/api/films/1/'],\n",
       "     'species': ['https://swapi.co/api/species/1/'],\n",
       "     'vehicles': ['https://swapi.co/api/vehicles/38/'],\n",
       "     'starships': ['https://swapi.co/api/starships/48/',\n",
       "      'https://swapi.co/api/starships/59/',\n",
       "      'https://swapi.co/api/starships/64/',\n",
       "      'https://swapi.co/api/starships/65/',\n",
       "      'https://swapi.co/api/starships/74/'],\n",
       "     'created': '2014-12-10T16:16:29.192000Z',\n",
       "     'edited': '2014-12-20T21:17:50.325000Z',\n",
       "     'url': 'https://swapi.co/api/people/10/'}}]}}"
      ]
     },
     "execution_count": 70,
     "metadata": {},
     "output_type": "execute_result"
    }
   ],
   "source": [
    "def search(query):\n",
    "    return es.search(index='starwars', body={\n",
    "        'query': {\n",
    "            'multi_match': {\n",
    "                'fields': ['name'],\n",
    "                'query': query,\n",
    "                'fuzziness': 2, # 'AUTO', #1,\n",
    "                'operator': 'and'\n",
    "            }\n",
    "         }\n",
    "    })\n",
    "\n",
    "search('obi')"
   ]
  },
  {
   "cell_type": "code",
   "execution_count": null,
   "metadata": {},
   "outputs": [],
   "source": [
    "# https://www.elastic.co/guide/en/elasticsearch/reference/current/search-suggesters-completion.html\n",
    "# https://github.com/elastic/elasticsearch-py/tree/master/example\n",
    "# TODO(DAN): better stemmers/analyzers, perform index update"
   ]
  }
 ],
 "metadata": {
  "kernelspec": {
   "display_name": "Python 3",
   "language": "python",
   "name": "python3"
  },
  "language_info": {
   "codemirror_mode": {
    "name": "ipython",
    "version": 3
   },
   "file_extension": ".py",
   "mimetype": "text/x-python",
   "name": "python",
   "nbconvert_exporter": "python",
   "pygments_lexer": "ipython3",
   "version": "3.7.0"
  }
 },
 "nbformat": 4,
 "nbformat_minor": 2
}
